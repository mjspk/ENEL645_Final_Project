{
 "cells": [
  {
   "attachments": {},
   "cell_type": "markdown",
   "metadata": {},
   "source": [
    "<a id=\"1\"></a>\n",
    "# Including Libraries\n",
    "\n",
    "Install some libraries if necessary and import everything that is needed"
   ]
  },
  {
   "cell_type": "code",
   "execution_count": null,
   "metadata": {},
   "outputs": [],
   "source": [
    "# !pip install librosa "
   ]
  },
  {
   "cell_type": "code",
   "execution_count": null,
   "metadata": {
    "_cell_guid": "b1076dfc-b9ad-4769-8c92-a6c4dae69d19",
    "_uuid": "8f2839f25d086af736a60e9eeb907d3b93b6e0e5",
    "execution": {
     "iopub.execute_input": "2022-07-01T06:49:46.47379Z",
     "iopub.status.busy": "2022-07-01T06:49:46.473068Z",
     "iopub.status.idle": "2022-07-01T06:50:00.292595Z",
     "shell.execute_reply": "2022-07-01T06:50:00.291134Z",
     "shell.execute_reply.started": "2022-07-01T06:49:46.473685Z"
    }
   },
   "outputs": [],
   "source": [
    "# Display graphs in line\n",
    "%matplotlib inline\n",
    "\n",
    "# Import Functions\n",
    "import torch\n",
    "import torch\n",
    "import torch.nn as nn\n",
    "import torch.optim as optim\n",
    "import torch.nn.functional as F\n",
    "from torch.utils.data import TensorDataset, DataLoader\n",
    "\n",
    "import numpy as np \n",
    "np.random.seed(42)\n",
    "\n",
    "import pandas as pd\n",
    "import librosa\n",
    "import librosa.display\n",
    "import matplotlib.pyplot as plt\n",
    "import plotly.graph_objects as go\n",
    "import plotly.express as px\n",
    "import plotly.figure_factory as ff\n",
    "import seaborn as sns\n",
    "import IPython\n",
    "from tqdm import tqdm # install ipywidgets to address warning\n",
    "\n",
    "from sklearn.model_selection import train_test_split\n",
    "from sklearn.metrics import confusion_matrix\n",
    "from sklearn.metrics import classification_report\n",
    "from sklearn.preprocessing import LabelEncoder,StandardScaler\n",
    "import os\n",
    "import random\n",
    "\n",
    "# Suppress read write warnings\n",
    "import warnings\n",
    "warnings.filterwarnings('ignore')\n",
    "\n",
    "#Set the Device to do training on\n",
    "device = \"cuda\" if torch.cuda.is_available() else \"cpu\""
   ]
  },
  {
   "attachments": {},
   "cell_type": "markdown",
   "metadata": {},
   "source": [
    "<a id=\"2\"></a>\n",
    "# Including the Datasets\n",
    "\n",
    "A path needs to be provided to the main directory. Inside this directory should be a list of folders with Emotions. Each folder contains the audio files ot load"
   ]
  },
  {
   "cell_type": "code",
   "execution_count": 24,
   "metadata": {
    "execution": {
     "iopub.execute_input": "2022-07-01T06:51:08.747833Z",
     "iopub.status.busy": "2022-07-01T06:51:08.746781Z",
     "iopub.status.idle": "2022-07-01T06:51:08.754674Z",
     "shell.execute_reply": "2022-07-01T06:51:08.75327Z",
     "shell.execute_reply.started": "2022-07-01T06:51:08.747759Z"
    }
   },
   "outputs": [],
   "source": [
    "import pandas as pd\n",
    "import numpy as np\n",
    "import os\n",
    "Crema_Path='data/Crema/'\n",
    "Ravdess_Path='data/Ravdess/audio_speech_actors_01-24'\n",
    "Savee_Path='data/Savee/' \n",
    "Tess_Path='data/Tess/'\n",
    "\n",
    "class DataSetLoader:\n",
    "    def __init__(self,data_set_name='All'):\n",
    "        self.data_set_name = data_set_name\n",
    "        self.selected_data_set = None\n",
    "        if self.data_set_name == 'Crema':\n",
    "            self.selected_data_set = Crema()\n",
    "        elif self.data_set_name == 'Ravdess':\n",
    "            self.selected_data_set = Ravdess()\n",
    "        elif self.data_set_name == 'Savee':\n",
    "            self.selected_data_set = Savee()\n",
    "        elif self.data_set_name == 'Tess':\n",
    "            self.selected_data_set = Tess()\n",
    "        \n",
    "        \n",
    "    def load_data(self):\n",
    "        if self.data_set_name == 'All':\n",
    "            crema = Crema()\n",
    "            ravdess = Ravdess()\n",
    "            savee = Savee()\n",
    "            tess = Tess()\n",
    "            crema_df = crema.load_data()\n",
    "            ravdess_df = ravdess.load_data()\n",
    "            savee_df = savee.load_data()\n",
    "            tess_df = tess.load_data()\n",
    "            data_set = pd.concat([crema_df,ravdess_df,savee_df,tess_df],ignore_index=True)\n",
    "            return data_set\n",
    "        else:\n",
    "            return self.selected_data_set.load_data()\n",
    "    \n",
    "    def get_data_set_name(self):\n",
    "        return self.data_set_name\n",
    "\n",
    "class Crema:\n",
    "    def load_data(self):\n",
    "        crema=[]\n",
    "        for wav in os.listdir(Crema_Path):\n",
    "            emotion=wav.partition(\".wav\")[0].split('_')\n",
    "            if emotion[2]=='SAD':\n",
    "                crema.append(('sad',Crema_Path+'/'+wav))\n",
    "            elif emotion[2]=='ANG':\n",
    "                crema.append(('angry',Crema_Path+'/'+wav))\n",
    "            elif emotion[2]=='DIS':\n",
    "                crema.append(('disgust',Crema_Path+'/'+wav))\n",
    "            elif emotion[2]=='FEA':\n",
    "                crema.append(('fear',Crema_Path+'/'+wav))\n",
    "            elif emotion[2]=='HAP':\n",
    "                crema.append(('happy',Crema_Path+'/'+wav))\n",
    "            elif emotion[2]=='NEU':\n",
    "                crema.append(('neutral',Crema_Path+'/'+wav))\n",
    "            else:\n",
    "                crema.append(('unknown',Crema_Path+'/'+wav))\n",
    "        Crema_df=pd.DataFrame.from_dict(crema)\n",
    "        Crema_df.rename(columns={0:'Emotion',1:'File_Path'},inplace=True)\n",
    "        Crema_df['Emotion'].unique()\n",
    "        return Crema_df\n",
    "    \n",
    "class Ravdess:\n",
    "    def load_data(self):\n",
    "        ravdess=[]\n",
    "        for directory in os.listdir(Ravdess_Path):\n",
    "            actors=os.listdir(os.path.join(Ravdess_Path,directory))\n",
    "            for wav in actors:\n",
    "                emotion=wav.partition('.wav')[0].split('-')\n",
    "                emotion_number=int(emotion[2])\n",
    "                ravdess.append((emotion_number,os.path.join(Ravdess_Path,directory,wav)))\n",
    "        Ravdess_df=pd.DataFrame.from_dict(ravdess)\n",
    "        Ravdess_df.rename(columns={0:'Emotion',1:'File_Path'},inplace=True)\n",
    "        Ravdess_df['Emotion'].replace({1:'neutral', 2:'neutral', 3:'happy', 4:'sad', 5:'angry', 6:'fear', 7:'disgust', 8:'surprise'},inplace=True)\n",
    "        Ravdess_df.head()\n",
    "        Ravdess_df['Emotion'].unique()\n",
    "        return Ravdess_df\n",
    "\n",
    "\n",
    "class Savee:\n",
    "    def load_data(self):\n",
    "        import re\n",
    "        savee=[]\n",
    "        for wav in os.listdir(Savee_Path):\n",
    "            emo=wav.partition('.wav')[0].split('_')[1].replace(r'[0-9]','')\n",
    "            emotion=re.split(r'[0-9]',emo)[0]\n",
    "            if emotion=='a':\n",
    "                savee.append(('angry',Savee_Path+'/'+wav))\n",
    "            elif emotion=='d':\n",
    "                savee.append(('disgust',Savee_Path+'/'+wav))\n",
    "            elif emotion=='f':\n",
    "                savee.append(('fear',Savee_Path+'/'+wav))\n",
    "            elif emotion=='h':\n",
    "                savee.append(('happy',Savee_Path+'/'+wav))\n",
    "            elif emotion=='n':\n",
    "                savee.append(('neutral',Savee_Path+'/'+wav))\n",
    "            elif emotion=='sa':\n",
    "                savee.append(('sad',Savee_Path+'/'+wav))\n",
    "            elif emotion=='su':\n",
    "                savee.append(('surprise',Savee_Path+'/'+wav))\n",
    "        Savee_df=pd.DataFrame.from_dict(savee)\n",
    "        Savee_df.rename(columns={0:'Emotion',1:'File_Path'},inplace=True)\n",
    "        Savee_df.head()\n",
    "        Savee_df['Emotion'].unique()\n",
    "        return Savee_df\n",
    "\n",
    "class Tess:\n",
    "    def load_data(self):\n",
    "        tess=[]\n",
    "        for directory in os.listdir(Tess_Path):\n",
    "            for wav in os.listdir(os.path.join(Tess_Path,directory)):\n",
    "                emotion=wav.partition('.wav')[0].split('_')\n",
    "                if emotion[2]=='ps':\n",
    "                    tess.append(('surprise',os.path.join(Tess_Path,directory,wav)))\n",
    "                else:\n",
    "                    tess.append((emotion[2],os.path.join(Tess_Path,directory,wav)))\n",
    "        Tess_df=pd.DataFrame.from_dict(tess)\n",
    "        Tess_df.rename(columns={0:'Emotion',1:'File_Path'},inplace=True)\n",
    "        Tess_df.head()\n",
    "        return Tess_df"
   ]
  },
  {
   "cell_type": "markdown",
   "metadata": {},
   "source": [
    "<a id=\"3\"></a>\n",
    "# Data Analyze"
   ]
  },
  {
   "cell_type": "code",
   "execution_count": 33,
   "metadata": {
    "execution": {
     "iopub.execute_input": "2022-07-01T06:51:17.055659Z",
     "iopub.status.busy": "2022-07-01T06:51:17.054308Z",
     "iopub.status.idle": "2022-07-01T06:51:17.081003Z",
     "shell.execute_reply": "2022-07-01T06:51:17.079654Z",
     "shell.execute_reply.started": "2022-07-01T06:51:17.055614Z"
    }
   },
   "outputs": [],
   "source": [
    "# Convert the dataframe to a csv so it doesn't need to be recreated every time\n",
    "main_path='main_df.csv'\n",
    "main_df=DataSetLoader('Tess').load_data()\n",
    "main_df.to_csv(main_path,index=False)"
   ]
  },
  {
   "cell_type": "code",
   "execution_count": 34,
   "metadata": {},
   "outputs": [
    {
     "data": {
      "text/html": [
       "<div>\n",
       "<style scoped>\n",
       "    .dataframe tbody tr th:only-of-type {\n",
       "        vertical-align: middle;\n",
       "    }\n",
       "\n",
       "    .dataframe tbody tr th {\n",
       "        vertical-align: top;\n",
       "    }\n",
       "\n",
       "    .dataframe thead th {\n",
       "        text-align: right;\n",
       "    }\n",
       "</style>\n",
       "<table border=\"1\" class=\"dataframe\">\n",
       "  <thead>\n",
       "    <tr style=\"text-align: right;\">\n",
       "      <th></th>\n",
       "      <th>Emotion</th>\n",
       "      <th>File_Path</th>\n",
       "    </tr>\n",
       "  </thead>\n",
       "  <tbody>\n",
       "    <tr>\n",
       "      <th>0</th>\n",
       "      <td>angry</td>\n",
       "      <td>data/Tess/OAF_angry\\OAF_back_angry.wav</td>\n",
       "    </tr>\n",
       "    <tr>\n",
       "      <th>1</th>\n",
       "      <td>angry</td>\n",
       "      <td>data/Tess/OAF_angry\\OAF_bar_angry.wav</td>\n",
       "    </tr>\n",
       "    <tr>\n",
       "      <th>2</th>\n",
       "      <td>angry</td>\n",
       "      <td>data/Tess/OAF_angry\\OAF_base_angry.wav</td>\n",
       "    </tr>\n",
       "    <tr>\n",
       "      <th>3</th>\n",
       "      <td>angry</td>\n",
       "      <td>data/Tess/OAF_angry\\OAF_bath_angry.wav</td>\n",
       "    </tr>\n",
       "    <tr>\n",
       "      <th>4</th>\n",
       "      <td>angry</td>\n",
       "      <td>data/Tess/OAF_angry\\OAF_bean_angry.wav</td>\n",
       "    </tr>\n",
       "    <tr>\n",
       "      <th>5</th>\n",
       "      <td>angry</td>\n",
       "      <td>data/Tess/OAF_angry\\OAF_beg_angry.wav</td>\n",
       "    </tr>\n",
       "    <tr>\n",
       "      <th>6</th>\n",
       "      <td>angry</td>\n",
       "      <td>data/Tess/OAF_angry\\OAF_bite_angry.wav</td>\n",
       "    </tr>\n",
       "    <tr>\n",
       "      <th>7</th>\n",
       "      <td>angry</td>\n",
       "      <td>data/Tess/OAF_angry\\OAF_boat_angry.wav</td>\n",
       "    </tr>\n",
       "    <tr>\n",
       "      <th>8</th>\n",
       "      <td>angry</td>\n",
       "      <td>data/Tess/OAF_angry\\OAF_bone_angry.wav</td>\n",
       "    </tr>\n",
       "    <tr>\n",
       "      <th>9</th>\n",
       "      <td>angry</td>\n",
       "      <td>data/Tess/OAF_angry\\OAF_book_angry.wav</td>\n",
       "    </tr>\n",
       "    <tr>\n",
       "      <th>10</th>\n",
       "      <td>angry</td>\n",
       "      <td>data/Tess/OAF_angry\\OAF_bought_angry.wav</td>\n",
       "    </tr>\n",
       "    <tr>\n",
       "      <th>11</th>\n",
       "      <td>angry</td>\n",
       "      <td>data/Tess/OAF_angry\\OAF_burn_angry.wav</td>\n",
       "    </tr>\n",
       "    <tr>\n",
       "      <th>12</th>\n",
       "      <td>angry</td>\n",
       "      <td>data/Tess/OAF_angry\\OAF_cab_angry.wav</td>\n",
       "    </tr>\n",
       "    <tr>\n",
       "      <th>13</th>\n",
       "      <td>angry</td>\n",
       "      <td>data/Tess/OAF_angry\\OAF_calm_angry.wav</td>\n",
       "    </tr>\n",
       "    <tr>\n",
       "      <th>14</th>\n",
       "      <td>angry</td>\n",
       "      <td>data/Tess/OAF_angry\\OAF_came_angry.wav</td>\n",
       "    </tr>\n",
       "  </tbody>\n",
       "</table>\n",
       "</div>"
      ],
      "text/plain": [
       "   Emotion                                 File_Path\n",
       "0    angry    data/Tess/OAF_angry\\OAF_back_angry.wav\n",
       "1    angry     data/Tess/OAF_angry\\OAF_bar_angry.wav\n",
       "2    angry    data/Tess/OAF_angry\\OAF_base_angry.wav\n",
       "3    angry    data/Tess/OAF_angry\\OAF_bath_angry.wav\n",
       "4    angry    data/Tess/OAF_angry\\OAF_bean_angry.wav\n",
       "5    angry     data/Tess/OAF_angry\\OAF_beg_angry.wav\n",
       "6    angry    data/Tess/OAF_angry\\OAF_bite_angry.wav\n",
       "7    angry    data/Tess/OAF_angry\\OAF_boat_angry.wav\n",
       "8    angry    data/Tess/OAF_angry\\OAF_bone_angry.wav\n",
       "9    angry    data/Tess/OAF_angry\\OAF_book_angry.wav\n",
       "10   angry  data/Tess/OAF_angry\\OAF_bought_angry.wav\n",
       "11   angry    data/Tess/OAF_angry\\OAF_burn_angry.wav\n",
       "12   angry     data/Tess/OAF_angry\\OAF_cab_angry.wav\n",
       "13   angry    data/Tess/OAF_angry\\OAF_calm_angry.wav\n",
       "14   angry    data/Tess/OAF_angry\\OAF_came_angry.wav"
      ]
     },
     "execution_count": 34,
     "metadata": {},
     "output_type": "execute_result"
    }
   ],
   "source": [
    "main_df.head(15)"
   ]
  },
  {
   "cell_type": "code",
   "execution_count": 35,
   "metadata": {},
   "outputs": [
    {
     "data": {
      "text/html": [
       "<div>\n",
       "<style scoped>\n",
       "    .dataframe tbody tr th:only-of-type {\n",
       "        vertical-align: middle;\n",
       "    }\n",
       "\n",
       "    .dataframe tbody tr th {\n",
       "        vertical-align: top;\n",
       "    }\n",
       "\n",
       "    .dataframe thead th {\n",
       "        text-align: right;\n",
       "    }\n",
       "</style>\n",
       "<table border=\"1\" class=\"dataframe\">\n",
       "  <thead>\n",
       "    <tr style=\"text-align: right;\">\n",
       "      <th></th>\n",
       "      <th>Emotion</th>\n",
       "      <th>File_Path</th>\n",
       "    </tr>\n",
       "  </thead>\n",
       "  <tbody>\n",
       "    <tr>\n",
       "      <th>2785</th>\n",
       "      <td>sad</td>\n",
       "      <td>data/Tess/YAF_sad\\YAF_walk_sad.wav</td>\n",
       "    </tr>\n",
       "    <tr>\n",
       "      <th>2786</th>\n",
       "      <td>sad</td>\n",
       "      <td>data/Tess/YAF_sad\\YAF_wash_sad.wav</td>\n",
       "    </tr>\n",
       "    <tr>\n",
       "      <th>2787</th>\n",
       "      <td>sad</td>\n",
       "      <td>data/Tess/YAF_sad\\YAF_week_sad.wav</td>\n",
       "    </tr>\n",
       "    <tr>\n",
       "      <th>2788</th>\n",
       "      <td>sad</td>\n",
       "      <td>data/Tess/YAF_sad\\YAF_wheat_sad.wav</td>\n",
       "    </tr>\n",
       "    <tr>\n",
       "      <th>2789</th>\n",
       "      <td>sad</td>\n",
       "      <td>data/Tess/YAF_sad\\YAF_when_sad.wav</td>\n",
       "    </tr>\n",
       "    <tr>\n",
       "      <th>2790</th>\n",
       "      <td>sad</td>\n",
       "      <td>data/Tess/YAF_sad\\YAF_which_sad.wav</td>\n",
       "    </tr>\n",
       "    <tr>\n",
       "      <th>2791</th>\n",
       "      <td>sad</td>\n",
       "      <td>data/Tess/YAF_sad\\YAF_whip_sad.wav</td>\n",
       "    </tr>\n",
       "    <tr>\n",
       "      <th>2792</th>\n",
       "      <td>sad</td>\n",
       "      <td>data/Tess/YAF_sad\\YAF_white_sad.wav</td>\n",
       "    </tr>\n",
       "    <tr>\n",
       "      <th>2793</th>\n",
       "      <td>sad</td>\n",
       "      <td>data/Tess/YAF_sad\\YAF_wife_sad.wav</td>\n",
       "    </tr>\n",
       "    <tr>\n",
       "      <th>2794</th>\n",
       "      <td>sad</td>\n",
       "      <td>data/Tess/YAF_sad\\YAF_wire_sad.wav</td>\n",
       "    </tr>\n",
       "    <tr>\n",
       "      <th>2795</th>\n",
       "      <td>sad</td>\n",
       "      <td>data/Tess/YAF_sad\\YAF_witch_sad.wav</td>\n",
       "    </tr>\n",
       "    <tr>\n",
       "      <th>2796</th>\n",
       "      <td>sad</td>\n",
       "      <td>data/Tess/YAF_sad\\YAF_yearn_sad.wav</td>\n",
       "    </tr>\n",
       "    <tr>\n",
       "      <th>2797</th>\n",
       "      <td>sad</td>\n",
       "      <td>data/Tess/YAF_sad\\YAF_yes_sad.wav</td>\n",
       "    </tr>\n",
       "    <tr>\n",
       "      <th>2798</th>\n",
       "      <td>sad</td>\n",
       "      <td>data/Tess/YAF_sad\\YAF_young_sad.wav</td>\n",
       "    </tr>\n",
       "    <tr>\n",
       "      <th>2799</th>\n",
       "      <td>sad</td>\n",
       "      <td>data/Tess/YAF_sad\\YAF_youth_sad.wav</td>\n",
       "    </tr>\n",
       "  </tbody>\n",
       "</table>\n",
       "</div>"
      ],
      "text/plain": [
       "     Emotion                            File_Path\n",
       "2785     sad   data/Tess/YAF_sad\\YAF_walk_sad.wav\n",
       "2786     sad   data/Tess/YAF_sad\\YAF_wash_sad.wav\n",
       "2787     sad   data/Tess/YAF_sad\\YAF_week_sad.wav\n",
       "2788     sad  data/Tess/YAF_sad\\YAF_wheat_sad.wav\n",
       "2789     sad   data/Tess/YAF_sad\\YAF_when_sad.wav\n",
       "2790     sad  data/Tess/YAF_sad\\YAF_which_sad.wav\n",
       "2791     sad   data/Tess/YAF_sad\\YAF_whip_sad.wav\n",
       "2792     sad  data/Tess/YAF_sad\\YAF_white_sad.wav\n",
       "2793     sad   data/Tess/YAF_sad\\YAF_wife_sad.wav\n",
       "2794     sad   data/Tess/YAF_sad\\YAF_wire_sad.wav\n",
       "2795     sad  data/Tess/YAF_sad\\YAF_witch_sad.wav\n",
       "2796     sad  data/Tess/YAF_sad\\YAF_yearn_sad.wav\n",
       "2797     sad    data/Tess/YAF_sad\\YAF_yes_sad.wav\n",
       "2798     sad  data/Tess/YAF_sad\\YAF_young_sad.wav\n",
       "2799     sad  data/Tess/YAF_sad\\YAF_youth_sad.wav"
      ]
     },
     "execution_count": 35,
     "metadata": {},
     "output_type": "execute_result"
    }
   ],
   "source": [
    "main_df.tail(15)"
   ]
  },
  {
   "cell_type": "code",
   "execution_count": 36,
   "metadata": {},
   "outputs": [
    {
     "data": {
      "image/png": "[encoded data removed]",
      "text/plain": [
       "<Figure size 1200x600 with 1 Axes>"
      ]
     },
     "metadata": {},
     "output_type": "display_data"
    }
   ],
   "source": [
    "from matplotlib import pyplot as plt\n",
    "import seaborn as sns\n",
    "plt.figure(figsize=(12,6))\n",
    "plt.title('Emotions Counts')\n",
    "emotions=sns.countplot(x='Emotion',data=main_df,palette='Set2')\n",
    "emotions.set_xticklabels(emotions.get_xticklabels(),rotation=45)\n",
    "plt.show()"
   ]
  },
  {
   "cell_type": "code",
   "execution_count": 37,
   "metadata": {},
   "outputs": [],
   "source": [
    "emotion_names=main_df['Emotion'].unique()"
   ]
  },
  {
   "cell_type": "code",
   "execution_count": 38,
   "metadata": {},
   "outputs": [],
   "source": [
    "# Setup variable for further displays\n",
    "emotion_names=main_df['Emotion'].unique()\n",
    "colors={'disgust':'#804E2D','happy':'#F19C0E','sad':'#478FB8','neutral':'#4CB847','fear':'#7D55AA','angry':'#C00808','surprise':'#EE00FF'}\n"
   ]
  },
  {
   "attachments": {},
   "cell_type": "markdown",
   "metadata": {},
   "source": [
    "#### Evaluate Distribution\n",
    "\n",
    "Plot a histogram of the labels. The data is relatively balanced but the surprised class is lacking. We will fix that later during augmentation after loading the audio from the files"
   ]
  },
  {
   "cell_type": "code",
   "execution_count": 39,
   "metadata": {
    "execution": {
     "iopub.execute_input": "2022-07-01T06:51:19.038254Z",
     "iopub.status.busy": "2022-07-01T06:51:19.037371Z",
     "iopub.status.idle": "2022-07-01T06:51:19.412397Z",
     "shell.execute_reply": "2022-07-01T06:51:19.410619Z",
     "shell.execute_reply.started": "2022-07-01T06:51:19.038211Z"
    }
   },
   "outputs": [
    {
     "data": {
      "text/plain": [
       "[Text(0, 0, 'angry'),\n",
       " Text(1, 0, 'disgust'),\n",
       " Text(2, 0, 'fear'),\n",
       " Text(3, 0, 'happy'),\n",
       " Text(4, 0, 'neutral'),\n",
       " Text(5, 0, 'surprise'),\n",
       " Text(6, 0, 'sad')]"
      ]
     },
     "execution_count": 39,
     "metadata": {},
     "output_type": "execute_result"
    },
    {
     "data": {
      "image/png": "[encoded data removed]",
      "text/plain": [
       "<Figure size 1200x600 with 1 Axes>"
      ]
     },
     "metadata": {},
     "output_type": "display_data"
    }
   ],
   "source": [
    "# Evaluate the distribution of the data\n",
    "plt.figure(figsize=(12,6))\n",
    "plt.title('Emotions Counts')\n",
    "emotions=sns.countplot(x='Emotion',data=main_df,palette=colors)\n",
    "emotions.set_xticklabels(emotions.get_xticklabels(),rotation=45)"
   ]
  },
  {
   "cell_type": "code",
   "execution_count": 40,
   "metadata": {
    "execution": {
     "iopub.execute_input": "2022-07-01T06:51:21.369993Z",
     "iopub.status.busy": "2022-07-01T06:51:21.369654Z",
     "iopub.status.idle": "2022-07-01T06:51:21.378797Z",
     "shell.execute_reply": "2022-07-01T06:51:21.377474Z",
     "shell.execute_reply.started": "2022-07-01T06:51:21.369966Z"
    }
   },
   "outputs": [],
   "source": [
    "#Make helper functions to display audio files\n",
    "def wave_plot(data,sr,emotion,color):\n",
    "    plt.figure(figsize=(12,5))\n",
    "    plt.title(f'{emotion} emotion for waveplot',size=17)\n",
    "    librosa.display.waveshow(y=data,sr=sr,color=color)\n",
    "\n",
    "def spectogram(data,sr,emotion):\n",
    "    audio=librosa.stft(data)\n",
    "    audio_db=librosa.amplitude_to_db(abs(audio))\n",
    "    plt.figure(figsize=(12,5))\n",
    "    plt.title(f'{emotion} emotion for spectogram',size=17)\n",
    "    librosa.display.specshow(audio_db,sr=sr,x_axis='time',y_axis='hz')"
   ]
  },
  {
   "cell_type": "code",
   "execution_count": 41,
   "metadata": {
    "execution": {
     "iopub.execute_input": "2022-07-01T06:51:23.044953Z",
     "iopub.status.busy": "2022-07-01T06:51:23.043677Z",
     "iopub.status.idle": "2022-07-01T06:51:29.439099Z",
     "shell.execute_reply": "2022-07-01T06:51:29.437818Z",
     "shell.execute_reply.started": "2022-07-01T06:51:23.044907Z"
    }
   },
   "outputs": [
    {
     "ename": "NameError",
     "evalue": "name 'librosa' is not defined",
     "output_type": "error",
     "traceback": [
      "\u001b[1;31m---------------------------------------------------------------------------\u001b[0m",
      "\u001b[1;31mNameError\u001b[0m                                 Traceback (most recent call last)",
      "Cell \u001b[1;32mIn[41], line 8\u001b[0m\n\u001b[0;32m      5\u001b[0m     audio_path[emotion]\u001b[39m=\u001b[39mpath\n\u001b[0;32m      7\u001b[0m \u001b[39mfor\u001b[39;00m emotion,path \u001b[39min\u001b[39;00m audio_path\u001b[39m.\u001b[39mitems():\n\u001b[1;32m----> 8\u001b[0m     data,sr\u001b[39m=\u001b[39mlibrosa\u001b[39m.\u001b[39mload(path)\n\u001b[0;32m      9\u001b[0m     wave_plot(data,sr,emotion,colors[emotion])\n\u001b[0;32m     10\u001b[0m     spectogram(data,sr,emotion)\n",
      "\u001b[1;31mNameError\u001b[0m: name 'librosa' is not defined"
     ]
    }
   ],
   "source": [
    "# Take a path from each emotion and display the wave form and spectogram\n",
    "audio_path={}\n",
    "for emotion in emotion_names:\n",
    "    path=main_df[main_df['Emotion']==emotion]['File_Path'].iloc[0]\n",
    "    audio_path[emotion]=path\n",
    "\n",
    "for emotion,path in audio_path.items():\n",
    "    data,sr=librosa.load(path)\n",
    "    wave_plot(data,sr,emotion,colors[emotion])\n",
    "    spectogram(data,sr,emotion)\n",
    "\n",
    "# Create a function to extract features from the audio files"
   ]
  },
  {
   "attachments": {},
   "cell_type": "markdown",
   "metadata": {},
   "source": [
    "Setup cells to listen to the samples of audio files"
   ]
  },
  {
   "cell_type": "code",
   "execution_count": null,
   "metadata": {
    "execution": {
     "iopub.execute_input": "2022-07-01T06:51:29.442522Z",
     "iopub.status.busy": "2022-07-01T06:51:29.441748Z",
     "iopub.status.idle": "2022-07-01T06:51:29.460924Z",
     "shell.execute_reply": "2022-07-01T06:51:29.459467Z",
     "shell.execute_reply.started": "2022-07-01T06:51:29.442477Z"
    }
   },
   "outputs": [],
   "source": [
    "emotion_type = 'Happy'\n",
    "\n",
    "print(audio_path[emotion_type])\n",
    "print(emotion_type, 'Audio Sample: ', audio_path[emotion_type])\n",
    "IPython.display.Audio(audio_path[emotion_type])"
   ]
  },
  {
   "cell_type": "code",
   "execution_count": null,
   "metadata": {
    "execution": {
     "iopub.execute_input": "2022-07-01T06:51:29.463587Z",
     "iopub.status.busy": "2022-07-01T06:51:29.46267Z",
     "iopub.status.idle": "2022-07-01T06:51:29.479849Z",
     "shell.execute_reply": "2022-07-01T06:51:29.478014Z",
     "shell.execute_reply.started": "2022-07-01T06:51:29.463546Z"
    }
   },
   "outputs": [],
   "source": [
    "emotion_type = 'Sad'\n",
    "\n",
    "print(audio_path[emotion_type])\n",
    "print(emotion_type, 'Audio Sample: ', audio_path[emotion_type])\n",
    "IPython.display.Audio(audio_path[emotion_type])"
   ]
  },
  {
   "cell_type": "code",
   "execution_count": null,
   "metadata": {
    "execution": {
     "iopub.execute_input": "2022-07-01T06:51:29.484182Z",
     "iopub.status.busy": "2022-07-01T06:51:29.483177Z",
     "iopub.status.idle": "2022-07-01T06:51:29.501258Z",
     "shell.execute_reply": "2022-07-01T06:51:29.499741Z",
     "shell.execute_reply.started": "2022-07-01T06:51:29.484123Z"
    }
   },
   "outputs": [],
   "source": [
    "emotion_type = 'Fearful'\n",
    "\n",
    "print(audio_path[emotion_type])\n",
    "print(emotion_type, 'Audio Sample: ', audio_path[emotion_type])\n",
    "IPython.display.Audio(audio_path[emotion_type])"
   ]
  },
  {
   "cell_type": "code",
   "execution_count": null,
   "metadata": {
    "execution": {
     "iopub.execute_input": "2022-07-01T06:51:29.5039Z",
     "iopub.status.busy": "2022-07-01T06:51:29.503101Z",
     "iopub.status.idle": "2022-07-01T06:51:29.517199Z",
     "shell.execute_reply": "2022-07-01T06:51:29.515817Z",
     "shell.execute_reply.started": "2022-07-01T06:51:29.503855Z"
    }
   },
   "outputs": [],
   "source": [
    "emotion_type = 'Neutral'\n",
    "\n",
    "print(audio_path[emotion_type])\n",
    "print(emotion_type, 'Audio Sample: ', audio_path[emotion_type])\n",
    "IPython.display.Audio(audio_path[emotion_type])"
   ]
  },
  {
   "cell_type": "code",
   "execution_count": null,
   "metadata": {
    "execution": {
     "iopub.execute_input": "2022-07-01T06:51:29.520224Z",
     "iopub.status.busy": "2022-07-01T06:51:29.519137Z",
     "iopub.status.idle": "2022-07-01T06:51:29.533412Z",
     "shell.execute_reply": "2022-07-01T06:51:29.532045Z",
     "shell.execute_reply.started": "2022-07-01T06:51:29.520185Z"
    }
   },
   "outputs": [],
   "source": [
    "emotion_type = 'Suprised' #must use 'Suprised' due to typo\n",
    "\n",
    "print(audio_path[emotion_type])\n",
    "print(emotion_type, 'Audio Sample: ', audio_path[emotion_type])\n",
    "IPython.display.Audio(audio_path[emotion_type])"
   ]
  },
  {
   "cell_type": "code",
   "execution_count": null,
   "metadata": {
    "execution": {
     "iopub.execute_input": "2022-07-01T06:51:29.536496Z",
     "iopub.status.busy": "2022-07-01T06:51:29.53562Z",
     "iopub.status.idle": "2022-07-01T06:51:29.549455Z",
     "shell.execute_reply": "2022-07-01T06:51:29.547603Z",
     "shell.execute_reply.started": "2022-07-01T06:51:29.536456Z"
    }
   },
   "outputs": [],
   "source": [
    "emotion_type = 'Disgusted'\n",
    "\n",
    "print(audio_path[emotion_type])\n",
    "print(emotion_type, 'Audio Sample: ', audio_path[emotion_type])\n",
    "IPython.display.Audio(audio_path[emotion_type])"
   ]
  },
  {
   "cell_type": "code",
   "execution_count": null,
   "metadata": {
    "execution": {
     "iopub.execute_input": "2022-07-01T06:51:29.552259Z",
     "iopub.status.busy": "2022-07-01T06:51:29.551846Z",
     "iopub.status.idle": "2022-07-01T06:51:29.572712Z",
     "shell.execute_reply": "2022-07-01T06:51:29.571644Z",
     "shell.execute_reply.started": "2022-07-01T06:51:29.552222Z"
    }
   },
   "outputs": [],
   "source": [
    "emotion_type = 'Angry' \n",
    "\n",
    "print(audio_path[emotion_type])\n",
    "print(emotion_type, 'Audio Sample: ', audio_path[emotion_type])\n",
    "IPython.display.Audio(audio_path[emotion_type])"
   ]
  },
  {
   "attachments": {},
   "cell_type": "markdown",
   "metadata": {},
   "source": [
    "<a id=\"7\"></a>\n",
    "## Audio Augmentation and Feature Extraction\n",
    "\n",
    "Start by creating a class that loads audio files and augments them. "
   ]
  },
  {
   "cell_type": "code",
   "execution_count": null,
   "metadata": {},
   "outputs": [],
   "source": [
    "# Create a helper class to load audio files. \n",
    "# This can be used to load all the csv files in a dataframe and return the audio features and lables\n",
    "class AudioLoader:\n",
    "\n",
    "\t# Set parameters to work with librosa's functions \n",
    "\tdef __init__(self, frame_length=2048, hop_length=512):\n",
    "\t\tself.frame_length=frame_length \n",
    "\t\tself.hop_length=hop_length\n",
    "\n",
    "\t# Extract relevant features from the audio files and returns them\n",
    "\tdef extract_features(self, data,sr,frame_length=2048,hop_length=512):\n",
    "\t\tresult=np.array([])\n",
    "\n",
    "\t\t# Extract ZCR, RMS and MFCC, using librosa's functions\n",
    "\t\tzcr=np.squeeze(librosa.feature.zero_crossing_rate(data,frame_length=frame_length,hop_length=hop_length))\n",
    "\t\trmse=np.squeeze(librosa.feature.rms(y=data,frame_length=frame_length,hop_length=hop_length))\n",
    "\t\tmfcc=librosa.feature.mfcc(y=data,sr=sr)\n",
    "\t\tmfcc=np.ravel(mfcc.T)\n",
    "\t\t\n",
    "\t\tresult=np.hstack((result,\n",
    "\t\t\t\t\t\tzcr,\n",
    "\t\t\t\t\t\trmse,\n",
    "\t\t\t\t\t\tmfcc,\n",
    "\t\t\t\t\t\t))\n",
    "\t\treturn result\n",
    "\t\n",
    "\t\n",
    "\tdef load(self, df, base_file_path, label_column = \"Emotion\"):\n",
    "\n",
    "\t\t# Load the datafiles into audio Files\n",
    "\t\tX, Y = [], []\n",
    "\n",
    "\t\t# Load all the base data and split it into feature/columns\n",
    "\t\tprint(\"Loading data...\")\n",
    "\t\tfor _, row  in tqdm(df.iterrows(), total=df.shape[0]):\n",
    "\t\t\tpath = base_file_path + row[label_column] + \"/\" + row[\"File\"]\n",
    "\t\t\tdata,sr=librosa.load(path,duration=2.5, offset=0.6)\n",
    "\t\t\taud=self.extract_features(data,sr)\n",
    "\t\t\taudio=np.array(aud)\n",
    "\n",
    "\t\t\tX.append(audio)\n",
    "\t\t\tY.append(row[label_column])\n",
    "\n",
    "\t\treturn X, Y"
   ]
  },
  {
   "cell_type": "code",
   "execution_count": null,
   "metadata": {},
   "outputs": [],
   "source": [
    "# Create a helper class to balance the data labels in the data set by augmenting the rows wihch are lacking\n",
    "class DataBalancer:\n",
    "    \n",
    "\t# Define Data Augmentation Functions for the class\n",
    "\tdef add_noise(self, data,random=False,rate=0.035,threshold=0.075):\n",
    "\t\tif random:\n",
    "\t\t\trate=np.random.random()*threshold\n",
    "\t\tnoise=rate*np.random.uniform()*np.amax(data)\n",
    "\t\taugmented_data=data+noise*np.random.normal(size=data.shape[0])\n",
    "\t\treturn augmented_data\n",
    "\t\n",
    "\tdef shifting(self, data,rate=1000):\n",
    "\t\taugmented_data=int(np.random.uniform(low=-5,high=5)*rate)\n",
    "\t\taugmented_data=np.roll(data,augmented_data)\n",
    "\t\treturn augmented_data\n",
    "\n",
    "\tdef pitching(self, data,sr,pitch_factor=0.7,random=False):\n",
    "\t\tif random:\n",
    "\t\t\tpitch_factor=np.random.random() * pitch_factor\n",
    "\t\treturn librosa.effects.pitch_shift(data,sr=sr,n_steps=pitch_factor)\n",
    "\n",
    "\tdef streching(self, data,rate=0.8):\n",
    "\t\treturn librosa.effects.time_stretch(data,rate=rate)\n",
    "\t\n",
    "\n",
    "\t\n",
    "\tdef load_balanced(self, df, base_file_path, label_column = \"Emotion\", max_expansion = 1.5):\n",
    "\n",
    "\t\t# Load the base data\n",
    "\t\tloader = AudioLoader()\n",
    "\t\tX, Y = loader.load(df, base_file_path, label_column = label_column)\n",
    "\n",
    "\t\t\n",
    "\t\t# Figure out how big the dataset is and should be\n",
    "\t\tcounts = df[label_column].value_counts()\n",
    "\t\tnew_label_count = int(max_expansion * max(counts))\n",
    "\n",
    "\t\t# Loop over the labels and add enough columns for it to be balanced\n",
    "\t\tprint(\"Balancing the data set\")\n",
    "\t\tfor emotion in tqdm(df[label_column].unique(), total = df[label_column].nunique()):\n",
    "\n",
    "\t\t\t# Figure out how many rows to add\n",
    "\t\t\tcurrent_count = counts[emotion]\n",
    "\t\t\tneeded_rows  = new_label_count - current_count\n",
    "\n",
    "\t\t\t# Compile the list of random files to augment to bring up the sample count to a balanced set\n",
    "\t\t\trows_to_augment = df[df[label_column] == emotion].iloc[:1]\n",
    "\t\t\twhile needed_rows > 0 :\n",
    "\t\t\t\trows_to_augment = pd.concat([rows_to_augment, df[df[label_column] == emotion].sample(n = min(needed_rows, current_count))], axis = 0)\n",
    "\t\t\t\tneeded_rows -= current_count\n",
    "\t\t\t\n",
    "\t\t\t# Loop over the rows, load the audio file, augment it and then use the loader to extract it features\n",
    "\t\t\tprint(\"Augmenting the data set\")\n",
    "\t\t\tfor _, row in tqdm(rows_to_augment.iterrows(), total = rows_to_augment.shape[0]):\n",
    "\n",
    "\t\t\t\tpath = base_file_path + row[label_column] + \"/\" + row[\"File\"]\n",
    "\t\t\t\tdata, sr = librosa.load(path,duration=2.5, offset=0.6)\n",
    "\n",
    "\t\t\t\toption = random.randint(1, 4)\n",
    "\n",
    "\t\t\t\t# Apply a random feature augmentation to data\n",
    "\t\t\t\tif option == 1:\n",
    "\t\t\t\t\taug_audio=self.add_noise(data,random=True)\n",
    "\t\t\t\telif option == 2:\n",
    "\t\t\t\t\taug_audio=self.pitching(data,sr,random=True)\t\n",
    "\t\t\t\telif option == 3:\n",
    "\t\t\t\t\taug_audio=self.streching(data)\n",
    "\t\t\t\telif option == 4:\n",
    "\t\t\t\t\taug_audio=self.shifting(data)\n",
    "\n",
    "\t\t\t\taud=loader.extract_features(aug_audio,sr)\n",
    "\t\t\t\taudio=np.array(aud)\n",
    "\n",
    "\t\t\t\tX.append(audio)\n",
    "\t\t\t\tY.append(row[label_column])\n",
    "\n",
    "\t\treturn X, Y\n",
    "\t\n",
    "db = DataBalancer()\n",
    "X_augmented, Y_augmented = db.load_balanced(main_df, main_Path)"
   ]
  },
  {
   "cell_type": "code",
   "execution_count": null,
   "metadata": {},
   "outputs": [],
   "source": [
    "# Save extracted audio to a csv since it take a while to generate\n",
    "extract=pd.DataFrame(X_augmented)\n",
    "extract['Emotion']=Y_augmented\n",
    "extract.to_csv(\"processed_data.csv\",index=False)"
   ]
  },
  {
   "attachments": {},
   "cell_type": "markdown",
   "metadata": {},
   "source": [
    "### Check that augmented dataset is in fact balanced\n",
    "\n",
    "Looks like it is evenly balanced now thanks to data augmentation"
   ]
  },
  {
   "cell_type": "code",
   "execution_count": null,
   "metadata": {},
   "outputs": [],
   "source": [
    "# Check that augmented dataset is in fact balanced\n",
    "plt.figure(figsize=(12,6))\n",
    "plt.title('Augmented Emotions Counts')\n",
    "emotions=sns.countplot(x='Emotion',data=extract,palette=colors)\n",
    "emotions.set_xticklabels(emotions.get_xticklabels(),rotation=45)\n"
   ]
  },
  {
   "cell_type": "code",
   "execution_count": null,
   "metadata": {},
   "outputs": [],
   "source": [
    "# check info() on augmented dataset\n",
    "extract.info()"
   ]
  },
  {
   "cell_type": "code",
   "execution_count": null,
   "metadata": {
    "execution": {
     "iopub.execute_input": "2022-07-01T06:51:37.657256Z",
     "iopub.status.busy": "2022-07-01T06:51:37.656925Z",
     "iopub.status.idle": "2022-07-01T06:51:37.883359Z",
     "shell.execute_reply": "2022-07-01T06:51:37.881967Z",
     "shell.execute_reply.started": "2022-07-01T06:51:37.657228Z"
    }
   },
   "outputs": [],
   "source": [
    "#Load one of the files to show how the augmentations work\n",
    "ex_emotion_type = \"Happy\"\n",
    "ex_aug_file_path = audio_path[ex_emotion_type]\n",
    "data,sr=librosa.load(ex_aug_file_path)"
   ]
  },
  {
   "attachments": {},
   "cell_type": "markdown",
   "metadata": {},
   "source": [
    "<a id=\"4\"></a>\n",
    "## Check data Augmentation Behaviour\n",
    "### Original Audio"
   ]
  },
  {
   "cell_type": "code",
   "execution_count": null,
   "metadata": {
    "execution": {
     "iopub.execute_input": "2022-07-01T06:51:38.675218Z",
     "iopub.status.busy": "2022-07-01T06:51:38.674083Z",
     "iopub.status.idle": "2022-07-01T06:51:39.085816Z",
     "shell.execute_reply": "2022-07-01T06:51:39.084426Z",
     "shell.execute_reply.started": "2022-07-01T06:51:38.675161Z"
    }
   },
   "outputs": [],
   "source": [
    "plt.figure(figsize=(12,5))\n",
    "librosa.display.waveshow(data,sr=sr,color=colors[ex_emotion_type])\n",
    "IPython.display.Audio(ex_aug_file_path)"
   ]
  },
  {
   "cell_type": "markdown",
   "metadata": {},
   "source": [
    "<a id=\"8\"></a>\n",
    "### Noised Audio"
   ]
  },
  {
   "cell_type": "code",
   "execution_count": null,
   "metadata": {
    "execution": {
     "iopub.execute_input": "2022-07-01T06:51:42.782801Z",
     "iopub.status.busy": "2022-07-01T06:51:42.782373Z",
     "iopub.status.idle": "2022-07-01T06:51:43.19918Z",
     "shell.execute_reply": "2022-07-01T06:51:43.19796Z",
     "shell.execute_reply.started": "2022-07-01T06:51:42.782747Z"
    }
   },
   "outputs": [],
   "source": [
    "noised_audio=db.add_noise(data)\n",
    "plt.figure(figsize=(12,5))\n",
    "librosa.display.waveshow(noised_audio,sr=sr,color=colors[ex_emotion_type])\n",
    "IPython.display.Audio(noised_audio,rate=sr)"
   ]
  },
  {
   "cell_type": "markdown",
   "metadata": {},
   "source": [
    "<a id=\"10\"></a>\n",
    "### Streched Audio"
   ]
  },
  {
   "cell_type": "code",
   "execution_count": null,
   "metadata": {
    "execution": {
     "iopub.execute_input": "2022-07-01T06:51:43.532003Z",
     "iopub.status.busy": "2022-07-01T06:51:43.530696Z",
     "iopub.status.idle": "2022-07-01T06:51:44.43938Z",
     "shell.execute_reply": "2022-07-01T06:51:44.437922Z",
     "shell.execute_reply.started": "2022-07-01T06:51:43.531957Z"
    }
   },
   "outputs": [],
   "source": [
    "stretched_audio=db.streching(data)\n",
    "plt.figure(figsize=(12,5))\n",
    "librosa.display.waveshow(stretched_audio,sr=sr,color=colors[ex_emotion_type])\n",
    "IPython.display.Audio(stretched_audio,rate=sr)"
   ]
  },
  {
   "cell_type": "markdown",
   "metadata": {},
   "source": [
    "<a id=\"11\"></a>\n",
    "### Shifted Audio"
   ]
  },
  {
   "cell_type": "code",
   "execution_count": null,
   "metadata": {
    "execution": {
     "iopub.execute_input": "2022-07-01T06:51:44.618374Z",
     "iopub.status.busy": "2022-07-01T06:51:44.618045Z",
     "iopub.status.idle": "2022-07-01T06:51:45.021885Z",
     "shell.execute_reply": "2022-07-01T06:51:45.020299Z",
     "shell.execute_reply.started": "2022-07-01T06:51:44.618346Z"
    }
   },
   "outputs": [],
   "source": [
    "shifted_audio=db.shifting(data)\n",
    "plt.figure(figsize=(12,5))\n",
    "librosa.display.waveshow(shifted_audio,sr=sr,color=colors[ex_emotion_type])\n",
    "IPython.display.Audio(shifted_audio,rate=sr)"
   ]
  },
  {
   "cell_type": "markdown",
   "metadata": {},
   "source": [
    "<a id=\"12\"></a>\n",
    "### Pitched Audio"
   ]
  },
  {
   "cell_type": "code",
   "execution_count": null,
   "metadata": {
    "execution": {
     "iopub.execute_input": "2022-07-01T06:51:47.524677Z",
     "iopub.status.busy": "2022-07-01T06:51:47.523566Z",
     "iopub.status.idle": "2022-07-01T06:51:48.088372Z",
     "shell.execute_reply": "2022-07-01T06:51:48.086832Z",
     "shell.execute_reply.started": "2022-07-01T06:51:47.524618Z"
    }
   },
   "outputs": [],
   "source": [
    "pitched_audio=db.pitching(data,sr)\n",
    "plt.figure(figsize=(12,5))\n",
    "librosa.display.waveshow(pitched_audio,sr=sr,color=colors[ex_emotion_type])\n",
    "IPython.display.Audio(pitched_audio,rate=sr)"
   ]
  },
  {
   "attachments": {},
   "cell_type": "markdown",
   "metadata": {},
   "source": [
    "<a id=\"14\"></a>\n",
    "# Processing"
   ]
  },
  {
   "attachments": {},
   "cell_type": "markdown",
   "metadata": {},
   "source": [
    "<a id=\"15\"></a>\n",
    "### Including Analyzed Audio Features"
   ]
  },
  {
   "cell_type": "code",
   "execution_count": null,
   "metadata": {
    "execution": {
     "iopub.execute_input": "2022-07-01T08:35:32.888062Z",
     "iopub.status.busy": "2022-07-01T08:35:32.885975Z",
     "iopub.status.idle": "2022-07-01T08:36:05.211223Z",
     "shell.execute_reply": "2022-07-01T08:36:05.209921Z",
     "shell.execute_reply.started": "2022-07-01T08:35:32.888016Z"
    }
   },
   "outputs": [],
   "source": [
    "# Read back in the proccessed data\n",
    "df=pd.read_csv(\"processed_data.csv\")\n",
    "df.shape\n",
    "df=df.sample(frac=1).reset_index(drop=True)\n",
    "print(df.shape)\n"
   ]
  },
  {
   "cell_type": "code",
   "execution_count": null,
   "metadata": {
    "execution": {
     "iopub.execute_input": "2022-07-01T08:36:05.214109Z",
     "iopub.status.busy": "2022-07-01T08:36:05.213361Z",
     "iopub.status.idle": "2022-07-01T08:36:06.377511Z",
     "shell.execute_reply": "2022-07-01T08:36:06.375985Z",
     "shell.execute_reply.started": "2022-07-01T08:36:05.214064Z"
    }
   },
   "outputs": [],
   "source": [
    "df=df.fillna(0)\n",
    "print(df.isna().any())\n",
    "df.shape"
   ]
  },
  {
   "cell_type": "markdown",
   "metadata": {},
   "source": [
    "<a id=\"16\"></a>\n",
    "# Processing Analyzed Data for Training"
   ]
  },
  {
   "cell_type": "code",
   "execution_count": null,
   "metadata": {
    "execution": {
     "iopub.execute_input": "2022-07-01T08:36:06.792976Z",
     "iopub.status.busy": "2022-07-01T08:36:06.792435Z",
     "iopub.status.idle": "2022-07-01T08:36:06.821801Z",
     "shell.execute_reply": "2022-07-01T08:36:06.819587Z",
     "shell.execute_reply.started": "2022-07-01T08:36:06.792937Z"
    }
   },
   "outputs": [],
   "source": [
    "# Split dataframe into data and labels\n",
    "X=df.drop(labels='Emotion',axis=1)\n",
    "Y=df['Emotion']\n",
    "\n",
    "# Convert emotion label to an index\n",
    "indexes = {'Disgusted':0,'Happy':1,'Sad':2,'Neutral':3,'Fearful':4,'Angry':5,'Suprised':6}\n",
    "Y = Y.map(indexes)\n",
    "\n",
    "# Convert the labels into a catagorical columns\n",
    "lb=LabelEncoder()\n",
    "Y = torch.tensor(Y)\n",
    "Y = lb.fit_transform(Y)\n",
    "Y = torch.nn.functional.one_hot(torch.tensor(Y)).float()\n",
    "Y.shape"
   ]
  },
  {
   "cell_type": "markdown",
   "metadata": {},
   "source": [
    "<a id=\"17\"></a>\n",
    "## Train, Test and Validation Spliting"
   ]
  },
  {
   "cell_type": "code",
   "execution_count": null,
   "metadata": {
    "execution": {
     "iopub.execute_input": "2022-07-01T08:36:08.281701Z",
     "iopub.status.busy": "2022-07-01T08:36:08.281392Z",
     "iopub.status.idle": "2022-07-01T08:36:09.527267Z",
     "shell.execute_reply": "2022-07-01T08:36:09.525855Z",
     "shell.execute_reply.started": "2022-07-01T08:36:08.281674Z"
    }
   },
   "outputs": [],
   "source": [
    "# Split off a test set for the final validation (balanced dataset, so no need to 'stratify')\n",
    "X_train,X_test,y_train,y_test=train_test_split(X,Y,random_state=42,test_size=0.2,shuffle=True, stratify=None)\n",
    "\n",
    "# Split the training set further into a training and validation set\n",
    "X_train,X_val,y_train,y_val=train_test_split(X_train,y_train,random_state=42,test_size=0.1,shuffle=True, stratify=None)\n",
    "\n",
    "print(f\"Train: X:{X_train.shape}, y: {y_train.shape}\")\n",
    "print(f\"Validation: X:{X_val.shape}, y: {y_val.shape}\")\n",
    "print(f\"Test: X:{X_test.shape}, y: {y_test.shape}\")"
   ]
  },
  {
   "attachments": {},
   "cell_type": "markdown",
   "metadata": {},
   "source": [
    "## Normalize the data using Standard Scaler"
   ]
  },
  {
   "cell_type": "code",
   "execution_count": null,
   "metadata": {
    "execution": {
     "iopub.execute_input": "2022-07-01T08:36:09.53082Z",
     "iopub.status.busy": "2022-07-01T08:36:09.530003Z",
     "iopub.status.idle": "2022-07-01T08:36:11.601621Z",
     "shell.execute_reply": "2022-07-01T08:36:11.600193Z",
     "shell.execute_reply.started": "2022-07-01T08:36:09.530762Z"
    }
   },
   "outputs": [],
   "source": [
    "scaler=StandardScaler()\n",
    "X_train=scaler.fit_transform(X_train)\n",
    "X_test=scaler.transform(X_test)\n",
    "X_val=scaler.transform(X_val)\n",
    "X_train.shape,X_test.shape,X_val.shape,y_train.shape,y_test.shape,y_val.shape"
   ]
  },
  {
   "cell_type": "code",
   "execution_count": null,
   "metadata": {
    "execution": {
     "iopub.execute_input": "2022-07-01T08:36:11.609841Z",
     "iopub.status.busy": "2022-07-01T08:36:11.606986Z",
     "iopub.status.idle": "2022-07-01T08:36:11.626435Z",
     "shell.execute_reply": "2022-07-01T08:36:11.624048Z",
     "shell.execute_reply.started": "2022-07-01T08:36:11.609765Z"
    }
   },
   "outputs": [],
   "source": [
    "X_train=np.expand_dims(X_train,axis=2)\n",
    "X_val=np.expand_dims(X_val,axis=2)\n",
    "X_test=np.expand_dims(X_test,axis=2)\n",
    "X_train.shape, X_test.shape, X_val.shape"
   ]
  },
  {
   "attachments": {},
   "cell_type": "markdown",
   "metadata": {},
   "source": [
    "<a id=\"19\"></a>\n",
    "# Train the model\n",
    "\n",
    "## Setup Pytorch Neural Network"
   ]
  },
  {
   "cell_type": "code",
   "execution_count": null,
   "metadata": {
    "execution": {
     "iopub.execute_input": "2022-07-01T09:22:38.928719Z",
     "iopub.status.busy": "2022-07-01T09:22:38.928325Z",
     "iopub.status.idle": "2022-07-01T09:22:39.149113Z",
     "shell.execute_reply": "2022-07-01T09:22:39.147832Z",
     "shell.execute_reply.started": "2022-07-01T09:22:38.928691Z"
    }
   },
   "outputs": [],
   "source": [
    "# Define the Convolutional Neural Network to train the model with in a class\n",
    "class AudioModel(nn.Module):\n",
    "    def __init__(self):\n",
    "        super(AudioModel, self).__init__()\n",
    "        \n",
    "        self.conv1 = nn.Conv1d(in_channels=1, out_channels=512, kernel_size=5, stride=1, padding=2)\n",
    "        self.bn1 = nn.BatchNorm1d(512)\n",
    "        self.pool1 = nn.MaxPool1d(kernel_size=5, stride=2, padding=2)\n",
    "        \n",
    "        self.conv2 = nn.Conv1d(in_channels=512, out_channels=512, kernel_size=5, stride=1, padding=2)\n",
    "        self.bn2 = nn.BatchNorm1d(512)\n",
    "        self.pool2 = nn.MaxPool1d(kernel_size=5, stride=2, padding=2)\n",
    "        \n",
    "        self.conv3 = nn.Conv1d(in_channels=512, out_channels=256, kernel_size=5, stride=1, padding=2)\n",
    "        self.bn3 = nn.BatchNorm1d(256)\n",
    "        self.pool3 = nn.MaxPool1d(kernel_size=5, stride=2, padding=2)\n",
    "        \n",
    "        self.conv4 = nn.Conv1d(in_channels=256, out_channels=256, kernel_size=3, stride=1, padding=1)\n",
    "        self.bn4 = nn.BatchNorm1d(256)\n",
    "        self.pool4 = nn.MaxPool1d(kernel_size=5, stride=2, padding=2)\n",
    "        \n",
    "        self.conv5 = nn.Conv1d(in_channels=256, out_channels=128, kernel_size=3, stride=1, padding=1)\n",
    "        self.bn5 = nn.BatchNorm1d(128)\n",
    "        self.pool5 = nn.MaxPool1d(kernel_size=3, stride=2, padding=1)\n",
    "        \n",
    "        self.fc1 = nn.Linear(in_features=128*93, out_features=512)\n",
    "        self.bn6 = nn.BatchNorm1d(512)\n",
    "        \n",
    "        self.fc2 = nn.Linear(in_features=512, out_features=7)\n",
    "        \n",
    "    def forward(self, x):\n",
    "        x = self.pool1(self.bn1(F.relu(self.conv1(x))))\n",
    "        x = self.pool2(self.bn2(F.relu(self.conv2(x))))\n",
    "        x = self.pool3(self.bn3(F.relu(self.conv3(x))))\n",
    "        x = self.pool4(self.bn4(F.relu(self.conv4(x))))\n",
    "        x = self.pool5(self.bn5(F.relu(self.conv5(x))))\n",
    "        x = x.flatten(start_dim=1)\n",
    "        x = self.bn6(nn.functional.relu(self.fc1(x)))\n",
    "        x = self.fc2(x)\n",
    "        x = nn.functional.softmax(x, dim=1)\n",
    "        return x\n",
    "\n",
    "audio_model = AudioModel()\n",
    "audio_model"
   ]
  },
  {
   "cell_type": "markdown",
   "metadata": {},
   "source": [
    "<a id=\"18\"></a>\n",
    "## Tuning for Training"
   ]
  },
  {
   "cell_type": "code",
   "execution_count": null,
   "metadata": {
    "execution": {
     "iopub.execute_input": "2022-07-01T08:36:11.630018Z",
     "iopub.status.busy": "2022-07-01T08:36:11.628925Z",
     "iopub.status.idle": "2022-07-01T08:36:11.644878Z",
     "shell.execute_reply": "2022-07-01T08:36:11.643384Z",
     "shell.execute_reply.started": "2022-07-01T08:36:11.629973Z"
    }
   },
   "outputs": [],
   "source": [
    "#Define an early stopper class to use during training\n",
    "\n",
    "class EarlyStopper():\n",
    "    def __init__(self, patience: int = 3):\n",
    "        self.best_val = +np.inf\n",
    "        self.current_val = +np.inf\n",
    "        self.patience = patience\n",
    "        self.steps_since_last_best = 0\n",
    "        \n",
    "    def __call__(self, val) -> bool:\n",
    "        self.current_val = val\n",
    "        self._update_best()\n",
    "        if self.steps_since_last_best == self.patience:\n",
    "            return True\n",
    "        else:\n",
    "            return False\n",
    "        \n",
    "    def _update_best(self):\n",
    "        if self.current_val < self.best_val:\n",
    "            tqdm.write(f\"New best: {self.current_val:.4f}\")\n",
    "            self.best_val=self.current_val\n",
    "            self.steps_since_last_best = 0\n",
    "        else:\n",
    "            self.steps_since_last_best+=1\n",
    "\n",
    "# Pick an optimizer and use it to define a scheduler\n",
    "optim = torch.optim.Adam(params=audio_model.parameters())\n",
    "\n",
    "lr_scheduler = torch.optim.lr_scheduler.ReduceLROnPlateau(\n",
    "    optim,\n",
    "    \"min\",\n",
    "    factor=0.1,\n",
    "    patience=2,\n",
    "    verbose=True\n",
    ")"
   ]
  },
  {
   "attachments": {},
   "cell_type": "markdown",
   "metadata": {},
   "source": [
    "### Initialize a dataloader and create dataloaders for train, test, split"
   ]
  },
  {
   "cell_type": "code",
   "execution_count": null,
   "metadata": {},
   "outputs": [],
   "source": [
    "def get_data_loader(x,y,bs):\n",
    "    # Permute np.array from NLC TO NCL\n",
    "    x = torch.permute(torch.Tensor(x), dims=(0, 2, 1))\n",
    "    y = torch.Tensor(y)\n",
    "    return DataLoader(\n",
    "        TensorDataset(x, y),\n",
    "        batch_size=bs\n",
    "    )\n",
    "\n",
    "# Check the device and set datasize accordingly\n",
    "if device == \"cpu\":\n",
    "    # Small dataset for cpu running to setup data\n",
    "    length = 100\n",
    "    train_loader = get_data_loader(X_train[:length, :], y_train[:length, :], 8)\n",
    "    val_loader = get_data_loader(X_val[:length, :], y_val[:length, :], 8)\n",
    "    test_loader = get_data_loader(X_test[:length, :], y_test[:length, :], 8)\n",
    "else:\n",
    "    # Run full datasets on GPU for final training\n",
    "    train_loader = get_data_loader(X_train, y_train, 8)\n",
    "    val_loader = get_data_loader(X_val, y_val, 8)\n",
    "    test_loader = get_data_loader(X_test, y_test, 8)"
   ]
  },
  {
   "attachments": {},
   "cell_type": "markdown",
   "metadata": {},
   "source": [
    "### Define functions for training and validating the model"
   ]
  },
  {
   "cell_type": "code",
   "execution_count": null,
   "metadata": {},
   "outputs": [],
   "source": [
    "#\n",
    "# TODO: populate the history dict for plots below\n",
    "# train_val_loss_acc_hist_avgs = {\"epoch\":[], \"train_loss\":[], \"val_loss\":[], \"train_acc\":[], \"val_acc\":[]}\n",
    "#\n",
    "\n",
    "# New code to define a model trainer\n",
    "def train(model, optim, scheduler, criterion, train_loader) -> (float, float):\n",
    "    device = next(iter(model.parameters())).device\n",
    "    model.train()\n",
    "    total_loss = 0\n",
    "    total_acc = 0\n",
    "    for x,y in train_loader:\n",
    "        x = x.to(device)\n",
    "        y = y.to(device)\n",
    "        y_pred = model(x)\n",
    "        loss = criterion(y_pred.squeeze(), y)\n",
    "        loss.backward()\n",
    "        optim.step()\n",
    "        optim.zero_grad()\n",
    "        total_loss += loss.item()\n",
    "        total_acc += torch.sum(torch.argmax(y_pred.squeeze(), dim=1) == y).item()\n",
    "    avg_loss = total_loss / len(train_loader)\n",
    "    avg_acc = total_acc / (len(train_loader.dataset))\n",
    "    scheduler.step(avg_loss)\n",
    "    return avg_loss, avg_acc\n",
    "\n",
    "@torch.no_grad()\n",
    "def validate(model, val_loader, criterion) -> (float, float):\n",
    "    model.eval()\n",
    "    device = next(iter(audio_model.parameters())).device\n",
    "    total_loss = 0\n",
    "    total_acc = 0\n",
    "    for x,y in val_loader:\n",
    "        x = x.to(device)\n",
    "        y = y.to(device)\n",
    "        y_pred = model(x)\n",
    "        loss = criterion(y_pred.squeeze(), y)\n",
    "        total_loss+=loss.item()\n",
    "        total_acc+=torch.sum(torch.argmax(y_pred.squeeze(), dim=1) == y).item()\n",
    "    avg_loss = total_loss / len(val_loader)\n",
    "    avg_acc = total_acc / (len(val_loader.dataset))\n",
    "    return avg_loss, avg_acc\n"
   ]
  },
  {
   "attachments": {},
   "cell_type": "markdown",
   "metadata": {},
   "source": [
    "### Train the model"
   ]
  },
  {
   "cell_type": "code",
   "execution_count": null,
   "metadata": {},
   "outputs": [],
   "source": [
    "model_name = \"./best_model.pt\" # Path to save best model\n",
    "epochs = 100 # Number of epochs to run\n",
    "criterion = nn.CrossEntropyLoss() # Criteria to evaluate performance\n",
    "early_stopper = EarlyStopper(patience=5)\n",
    "audio_model.to(device)\n",
    "train_val_loss_acc_hist_avgs = {\"epoch\":[], \"train_loss\":[], \"val_loss\":[], \"train_acc\":[], \"val_acc\":[]}\n",
    "# Loop over the epochs, train the model, and check if the error is improving\n",
    "for _ in tqdm(range(epochs)):\n",
    "    train_acc, train_loss =train(audio_model, optim, lr_scheduler, criterion, train_loader)\n",
    "    val_acc, val_loss = validate(audio_model, val_loader, criterion)\n",
    "    train_val_loss_acc_hist_avgs[\"epoch\"].append(_)\n",
    "    train_val_loss_acc_hist_avgs[\"train_loss\"].append(train_loss)\n",
    "    train_val_loss_acc_hist_avgs[\"val_loss\"].append(val_loss)\n",
    "    train_val_loss_acc_hist_avgs[\"train_acc\"].append(train_acc)\n",
    "    train_val_loss_acc_hist_avgs[\"val_acc\"].append(val_acc)\n",
    "    if early_stopper(val_loss):\n",
    "        break\n",
    "    if early_stopper.steps_since_last_best == 0:\n",
    "        torch.save(audio_model, model_name)"
   ]
  },
  {
   "attachments": {},
   "cell_type": "markdown",
   "metadata": {},
   "source": [
    "# Reload Best Model and Evaluate Performance"
   ]
  },
  {
   "cell_type": "code",
   "execution_count": null,
   "metadata": {},
   "outputs": [],
   "source": [
    "\n",
    "net = torch.load(model_name)\n",
    "net.eval() # Set the model to evaluation mode prior to testing"
   ]
  },
  {
   "cell_type": "code",
   "execution_count": null,
   "metadata": {},
   "outputs": [],
   "source": [
    "# Calculate how many items it gets right\n",
    "correct = 0\n",
    "total = 0\n",
    "\n",
    "with torch.no_grad():\n",
    "    for audio, labels in test_loader:\n",
    "\n",
    "        # Convert if run on a cuda device\n",
    "        if device != \"cpu\":\n",
    "            audio = audio.cuda()\n",
    "            labels = labels.cuda()\n",
    "\n",
    "        # Predict the outputs\n",
    "        outputs = net(audio)\n",
    "        _, labels = torch.max(labels.data, 1)\n",
    "        _, predicted = torch.max(outputs.data, 1)\n",
    "\n",
    "        # Count the number of outputs gottten correct\n",
    "        total += labels.size(0)\n",
    "        correct += (predicted == labels).sum().item()\n",
    "\n",
    "print(f'Accuracy of the network on the test audio samples: {100 * correct / total:.2f}: %')"
   ]
  },
  {
   "attachments": {},
   "cell_type": "markdown",
   "metadata": {},
   "source": [
    "<a id=\"20\"></a>\n",
    "# Analyze The Model Performance"
   ]
  },
  {
   "attachments": {},
   "cell_type": "markdown",
   "metadata": {},
   "source": [
    "<a id=\"21\"></a>\n",
    "## Accuracy History Charts"
   ]
  },
  {
   "cell_type": "code",
   "execution_count": null,
   "metadata": {
    "execution": {
     "iopub.execute_input": "2022-07-01T12:20:10.574158Z",
     "iopub.status.busy": "2022-07-01T12:20:10.573231Z",
     "iopub.status.idle": "2022-07-01T12:20:10.66391Z",
     "shell.execute_reply": "2022-07-01T12:20:10.662422Z",
     "shell.execute_reply.started": "2022-07-01T12:20:10.574122Z"
    }
   },
   "outputs": [],
   "source": [
    "# create dataframe from the history\n",
    "df = pd.DataFrame.from_dict(train_val_loss_acc_hist_avgs)\n",
    "print(df.head())\n",
    "print(df.tail())\n",
    "\n",
    "# plot Training Accuracy Data\n",
    "sns.set_style('whitegrid')\n",
    "sns.lineplot(data=df, x='epoch', y='train_acc', label='Training Accuracy')\n",
    "\n",
    "# labels\n",
    "plt.xlabel('Epoch')\n",
    "plt.ylabel('Training Accuracy')\n",
    "plt.show()"
   ]
  },
  {
   "cell_type": "code",
   "execution_count": null,
   "metadata": {},
   "outputs": [],
   "source": [
    "# plot the Validation Accuracy data\n",
    "sns.set_style('whitegrid')\n",
    "sns.lineplot(data=df, x='epoch', y='val_acc', label='Validation Accuracy')\n",
    "\n",
    "# labels\n",
    "plt.xlabel('Epoch')\n",
    "plt.ylabel('Validation Accuracy')\n",
    "plt.show()"
   ]
  },
  {
   "attachments": {},
   "cell_type": "markdown",
   "metadata": {},
   "source": [
    "<a id=\"22\"></a>\n",
    "## Loss History Charts"
   ]
  },
  {
   "cell_type": "code",
   "execution_count": null,
   "metadata": {
    "execution": {
     "iopub.execute_input": "2022-07-01T12:20:17.070399Z",
     "iopub.status.busy": "2022-07-01T12:20:17.069939Z",
     "iopub.status.idle": "2022-07-01T12:20:17.156963Z",
     "shell.execute_reply": "2022-07-01T12:20:17.155215Z",
     "shell.execute_reply.started": "2022-07-01T12:20:17.070365Z"
    }
   },
   "outputs": [],
   "source": [
    "# create dataframe from the history\n",
    "df = pd.DataFrame.from_dict(train_val_loss_acc_hist_avgs)\n",
    "\n",
    "# plot the Training Loss data\n",
    "sns.set_style('whitegrid')\n",
    "sns.lineplot(data=df, x='epoch', y='train_loss', label='Training Loss')\n",
    "\n",
    "# labels\n",
    "plt.xlabel('Epoch')\n",
    "plt.ylabel('Training Loss')\n",
    "plt.show()"
   ]
  },
  {
   "cell_type": "code",
   "execution_count": null,
   "metadata": {},
   "outputs": [],
   "source": [
    "# plot the Validation Loss data\n",
    "sns.set_style('whitegrid')\n",
    "sns.lineplot(data=df, x='epoch', y='val_loss', label='Validation Loss')\n",
    "\n",
    "# labels\n",
    "plt.xlabel('Epoch')\n",
    "plt.ylabel('Validation Loss')\n",
    "plt.show()"
   ]
  },
  {
   "cell_type": "markdown",
   "metadata": {},
   "source": [
    "<a id=\"24\"></a>\n",
    "# Testing Model and Test Results"
   ]
  },
  {
   "cell_type": "markdown",
   "metadata": {},
   "source": [
    "<a id=\"25\"></a>\n",
    "## Confusion Matrix"
   ]
  },
  {
   "cell_type": "code",
   "execution_count": null,
   "metadata": {
    "execution": {
     "iopub.execute_input": "2022-07-01T11:22:57.756325Z",
     "iopub.status.busy": "2022-07-01T11:22:57.755895Z",
     "iopub.status.idle": "2022-07-01T11:22:58.264051Z",
     "shell.execute_reply": "2022-07-01T11:22:58.262837Z",
     "shell.execute_reply.started": "2022-07-01T11:22:57.756296Z"
    }
   },
   "outputs": [],
   "source": [
    "labels = np.array([0, 1, 2, 1, 6, 6, 0, 1, 2, 2, 0, 3, 3, 2, 5, 4, 5])\n",
    "predicted = np.array([0, 1, 1, 1, 6, 4, 0, 2, 2, 1, 0, 1, 3, 2, 0, 5, 5])\n",
    "print(emotion_names)\n",
    "\n",
    "conf=confusion_matrix(y_true=labels,y_pred=predicted)\n",
    "print(conf)\n",
    "\n",
    "cm=pd.DataFrame(\n",
    "    conf,index=[i for i in emotion_names],\n",
    "    columns=[i for i in emotion_names]\n",
    ")\n",
    "plt.figure(figsize=(12,7))\n",
    "ax=sns.heatmap(cm,annot=True,fmt='d')\n",
    "\n",
    "ax.set_title(f'Confusion Matrix for Emotions Audio Model')\n",
    "ax.set_xlabel(\"Predicted Emotion\")\n",
    "ax.set_ylabel(\"Actual Emotion\")\n",
    "plt.show()"
   ]
  },
  {
   "cell_type": "code",
   "execution_count": null,
   "metadata": {},
   "outputs": [],
   "source": [
    "cr = classification_report(y_true=labels, y_pred=predicted, target_names=emotion_names)\n",
    "print(\"Classification Report:\\n\", cr)"
   ]
  },
  {
   "attachments": {},
   "cell_type": "markdown",
   "metadata": {},
   "source": [
    "## Live Data Demo"
   ]
  },
  {
   "cell_type": "code",
   "execution_count": null,
   "metadata": {},
   "outputs": [],
   "source": [
    "import sounddevice as sd\n",
    "import soundfile as sf\n",
    "import numpy as np\n",
    "import time\n",
    "\n",
    "fs = 16000 \n",
    "seconds = 3  \n",
    "path=\"test.wav\"\n",
    "myrecording = sd.rec(int(seconds * fs), samplerate=fs, channels=1)\n",
    "sd.wait()  \n",
    "sf.write(path, myrecording, fs)  \n",
    "\n",
    "sd.play(myrecording, fs)\n",
    "time.sleep(seconds)\n",
    "sd.stop()\n",
    "\n",
    "audio_loader = AudioLoader()\n",
    "data,sr=librosa.load(path,duration=2.5, offset=0.6)\n",
    "aud=audio_loader.extract_features(data,sr)\n",
    "audio=np.array(aud)\n",
    "\n",
    "model = torch.load(model_name)\n",
    "\n",
    "\n",
    "enmoji={'disgust':'😷','happy':'😃','sad':'😢','neutral':'😐','fear':'😨','angry':'😠','surprise':'😲'}\n",
    "\n",
    "with torch.no_grad():\n",
    "    audio = torch.from_numpy(audio).float().to(device)\n",
    "    outputs = model(audio)\n",
    "    _, labels = torch.max(labels.data, 1)\n",
    "    _, predicted = torch.max(outputs.data, 1)\n",
    "    print(f'Predicted Emotion: {emotion_names[predicted]} {enmoji[emotion_names[predicted]]}')\n",
    "\n",
    "    \n",
    "\n",
    "\n"
   ]
  }
 ],
 "metadata": {
  "kernelspec": {
   "display_name": "Python 3 (ipykernel)",
   "language": "python",
   "name": "python3"
  },
  "language_info": {
   "codemirror_mode": {
    "name": "ipython",
    "version": 3
   },
   "file_extension": ".py",
   "mimetype": "text/x-python",
   "name": "python",
   "nbconvert_exporter": "python",
   "pygments_lexer": "ipython3",
   "version": "3.10.9"
  },
  "vscode": {
   "interpreter": {
    "hash": "dac71518e9b6653c862b69045eaaf0e53d81a7d8a744c209caca28ad60de33a4"
   }
  }
 },
 "nbformat": 4,
 "nbformat_minor": 4
}
